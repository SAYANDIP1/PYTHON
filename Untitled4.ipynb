{
  "nbformat": 4,
  "nbformat_minor": 0,
  "metadata": {
    "colab": {
      "provenance": [],
      "authorship_tag": "ABX9TyOLzGZg8CIJt+txW63DiOZs",
      "include_colab_link": true
    },
    "kernelspec": {
      "name": "python3",
      "display_name": "Python 3"
    },
    "language_info": {
      "name": "python"
    }
  },
  "cells": [
    {
      "cell_type": "markdown",
      "metadata": {
        "id": "view-in-github",
        "colab_type": "text"
      },
      "source": [
        "<a href=\"https://colab.research.google.com/github/SAYANDIP1/PYTHON/blob/master/Untitled4.ipynb\" target=\"_parent\"><img src=\"https://colab.research.google.com/assets/colab-badge.svg\" alt=\"Open In Colab\"/></a>"
      ]
    },
    {
      "cell_type": "code",
      "execution_count": 1,
      "metadata": {
        "colab": {
          "base_uri": "https://localhost:8080/"
        },
        "id": "VvOaxF3ija-N",
        "outputId": "13e2ee3b-4524-4b00-8f01-fd974b8c8fef"
      },
      "outputs": [
        {
          "output_type": "stream",
          "name": "stdout",
          "text": [
            "Looking in indexes: https://pypi.org/simple, https://us-python.pkg.dev/colab-wheels/public/simple/\n",
            "Collecting pyspark\n",
            "  Downloading pyspark-3.3.2.tar.gz (281.4 MB)\n",
            "\u001b[2K     \u001b[90m━━━━━━━━━━━━━━━━━━━━━━━━━━━━━━━━━━━━━━━\u001b[0m \u001b[32m281.4/281.4 MB\u001b[0m \u001b[31m5.0 MB/s\u001b[0m eta \u001b[36m0:00:00\u001b[0m\n",
            "\u001b[?25h  Preparing metadata (setup.py) ... \u001b[?25l\u001b[?25hdone\n",
            "Collecting py4j==0.10.9.5\n",
            "  Downloading py4j-0.10.9.5-py2.py3-none-any.whl (199 kB)\n",
            "\u001b[2K     \u001b[90m━━━━━━━━━━━━━━━━━━━━━━━━━━━━━━━━━━━━━━\u001b[0m \u001b[32m199.7/199.7 KB\u001b[0m \u001b[31m16.8 MB/s\u001b[0m eta \u001b[36m0:00:00\u001b[0m\n",
            "\u001b[?25hBuilding wheels for collected packages: pyspark\n",
            "  Building wheel for pyspark (setup.py) ... \u001b[?25l\u001b[?25hdone\n",
            "  Created wheel for pyspark: filename=pyspark-3.3.2-py2.py3-none-any.whl size=281824028 sha256=eba6c1e08dea29a58ae073bdc6ab1486c4f0a4f045a8f16baf64cc18846c08fe\n",
            "  Stored in directory: /root/.cache/pip/wheels/6c/e3/9b/0525ce8a69478916513509d43693511463c6468db0de237c86\n",
            "Successfully built pyspark\n",
            "Installing collected packages: py4j, pyspark\n",
            "  Attempting uninstall: py4j\n",
            "    Found existing installation: py4j 0.10.9.7\n",
            "    Uninstalling py4j-0.10.9.7:\n",
            "      Successfully uninstalled py4j-0.10.9.7\n",
            "Successfully installed py4j-0.10.9.5 pyspark-3.3.2\n"
          ]
        }
      ],
      "source": [
        "!pip install pyspark"
      ]
    },
    {
      "cell_type": "code",
      "source": [
        "from pyspark.sql import SparkSession\n",
        "\n",
        "spark = SparkSession \\\n",
        "    .builder \\\n",
        "    .appName(\"Python Spark SQL basic example\") \\\n",
        "    .config(\"spark.some.config.option\", \"some-value\") \\\n",
        "    .getOrCreate()"
      ],
      "metadata": {
        "id": "arRQjupsjd-0"
      },
      "execution_count": 2,
      "outputs": []
    },
    {
      "cell_type": "code",
      "source": [
        "spark"
      ],
      "metadata": {
        "colab": {
          "base_uri": "https://localhost:8080/",
          "height": 222
        },
        "id": "H2N-_3jGjvWS",
        "outputId": "dbf2ed48-7404-4faa-ede7-5713c704d63e"
      },
      "execution_count": 33,
      "outputs": [
        {
          "output_type": "execute_result",
          "data": {
            "text/plain": [
              "<pyspark.sql.session.SparkSession at 0x7ff5801f3ee0>"
            ],
            "text/html": [
              "\n",
              "            <div>\n",
              "                <p><b>SparkSession - in-memory</b></p>\n",
              "                \n",
              "        <div>\n",
              "            <p><b>SparkContext</b></p>\n",
              "\n",
              "            <p><a href=\"http://89348f5d44a9:4040\">Spark UI</a></p>\n",
              "\n",
              "            <dl>\n",
              "              <dt>Version</dt>\n",
              "                <dd><code>v3.3.2</code></dd>\n",
              "              <dt>Master</dt>\n",
              "                <dd><code>local[*]</code></dd>\n",
              "              <dt>AppName</dt>\n",
              "                <dd><code>Python Spark SQL basic example</code></dd>\n",
              "            </dl>\n",
              "        </div>\n",
              "        \n",
              "            </div>\n",
              "        "
            ]
          },
          "metadata": {},
          "execution_count": 33
        }
      ]
    },
    {
      "cell_type": "code",
      "source": [
        "##read a dataset (if inferSchema=\"true\" is not mentioned everything will be treated as STRING Datatype)\n",
        "df_pyspk=spark.read.option(\"header\",\"true\").csv(\"part2Set1.csv\",inferSchema=\"true\")"
      ],
      "metadata": {
        "id": "Xbs9Ty_Hjylz"
      },
      "execution_count": 78,
      "outputs": []
    },
    {
      "cell_type": "code",
      "source": [
        "##description\n",
        "df_pyspk"
      ],
      "metadata": {
        "colab": {
          "base_uri": "https://localhost:8080/"
        },
        "id": "VBLzLRinkTtS",
        "outputId": "f9dca23e-4bf1-4a2f-a45c-545a1d0d9178"
      },
      "execution_count": 79,
      "outputs": [
        {
          "output_type": "execute_result",
          "data": {
            "text/plain": [
              "DataFrame[NAME: string, AGE: int, EXP: int]"
            ]
          },
          "metadata": {},
          "execution_count": 79
        }
      ]
    },
    {
      "cell_type": "code",
      "source": [
        "#whole dataset\n",
        "df_pyspk.show()"
      ],
      "metadata": {
        "colab": {
          "base_uri": "https://localhost:8080/"
        },
        "id": "879ZX4MxkXhD",
        "outputId": "7b87ce2c-f8f4-4fcd-bf42-487991f82052"
      },
      "execution_count": 80,
      "outputs": [
        {
          "output_type": "stream",
          "name": "stdout",
          "text": [
            "+-----+---+---+\n",
            "| NAME|AGE|EXP|\n",
            "+-----+---+---+\n",
            "|harry| 32|  4|\n",
            "|rohan| 67|  5|\n",
            "|sayan| 89|  6|\n",
            "|rohit| 43|  6|\n",
            "+-----+---+---+\n",
            "\n"
          ]
        }
      ]
    },
    {
      "cell_type": "code",
      "source": [
        "df_pyspk.printSchema()"
      ],
      "metadata": {
        "colab": {
          "base_uri": "https://localhost:8080/"
        },
        "id": "z4eGr7rrkl2h",
        "outputId": "379c0f28-a575-4f12-f8f4-6f1a76e26521"
      },
      "execution_count": 42,
      "outputs": [
        {
          "output_type": "stream",
          "name": "stdout",
          "text": [
            "root\n",
            " |-- NAME: string (nullable = true)\n",
            " |-- AGE: string (nullable = true)\n",
            " |-- EXP: string (nullable = true)\n",
            "\n"
          ]
        }
      ]
    },
    {
      "cell_type": "code",
      "source": [
        "df_pyspk=spark.read.csv(\"part2Set1.csv\",header=True,inferSchema=True)"
      ],
      "metadata": {
        "id": "hb7_1iqPkrGu"
      },
      "execution_count": 45,
      "outputs": []
    },
    {
      "cell_type": "code",
      "source": [
        "df_pyspk.printSchema()"
      ],
      "metadata": {
        "colab": {
          "base_uri": "https://localhost:8080/"
        },
        "id": "_ROdDxxqlKKf",
        "outputId": "e8cfe90d-e4b8-473d-8da7-236904b9e33b"
      },
      "execution_count": 46,
      "outputs": [
        {
          "output_type": "stream",
          "name": "stdout",
          "text": [
            "root\n",
            " |-- NAME: string (nullable = true)\n",
            " |-- AGE: integer (nullable = true)\n",
            " |-- EXP: integer (nullable = true)\n",
            "\n"
          ]
        }
      ]
    },
    {
      "cell_type": "code",
      "source": [
        "type(df_pyspk)"
      ],
      "metadata": {
        "colab": {
          "base_uri": "https://localhost:8080/"
        },
        "id": "66E3p54IlX9E",
        "outputId": "45376ec0-c210-4855-e2ba-7ee9e701de12"
      },
      "execution_count": 81,
      "outputs": [
        {
          "output_type": "execute_result",
          "data": {
            "text/plain": [
              "pyspark.sql.dataframe.DataFrame"
            ]
          },
          "metadata": {},
          "execution_count": 81
        }
      ]
    },
    {
      "cell_type": "code",
      "source": [
        "#to get the colomn names \n",
        "df_pyspk.columns"
      ],
      "metadata": {
        "colab": {
          "base_uri": "https://localhost:8080/"
        },
        "id": "ClL55Abrl6G4",
        "outputId": "f693ec85-e40d-487a-e8ba-effe87eb2952"
      },
      "execution_count": 50,
      "outputs": [
        {
          "output_type": "execute_result",
          "data": {
            "text/plain": [
              "['NAME', 'AGE', 'EXP']"
            ]
          },
          "metadata": {},
          "execution_count": 50
        }
      ]
    },
    {
      "cell_type": "code",
      "source": [
        "#how to get specific columns \n",
        "df_pyspk.select(\"NAME\").show()\n",
        "df_pyspk.select(\"NAME\",'EXP').show()"
      ],
      "metadata": {
        "colab": {
          "base_uri": "https://localhost:8080/"
        },
        "id": "dmvwN5X7mtt9",
        "outputId": "c26e1a7c-c948-45fb-9d8d-a4d2ca88c681"
      },
      "execution_count": 82,
      "outputs": [
        {
          "output_type": "stream",
          "name": "stdout",
          "text": [
            "+-----+\n",
            "| NAME|\n",
            "+-----+\n",
            "|harry|\n",
            "|rohan|\n",
            "|sayan|\n",
            "|rohit|\n",
            "+-----+\n",
            "\n",
            "+-----+---+\n",
            "| NAME|EXP|\n",
            "+-----+---+\n",
            "|harry|  4|\n",
            "|rohan|  5|\n",
            "|sayan|  6|\n",
            "|rohit|  6|\n",
            "+-----+---+\n",
            "\n"
          ]
        }
      ]
    },
    {
      "cell_type": "code",
      "source": [
        "df_pyspk[\"NAME\"]"
      ],
      "metadata": {
        "colab": {
          "base_uri": "https://localhost:8080/"
        },
        "id": "tMReE2B0sf4C",
        "outputId": "b7578a08-cfae-4647-cd61-424de0a4d51c"
      },
      "execution_count": 83,
      "outputs": [
        {
          "output_type": "execute_result",
          "data": {
            "text/plain": [
              "Column<'NAME'>"
            ]
          },
          "metadata": {},
          "execution_count": 83
        }
      ]
    },
    {
      "cell_type": "code",
      "source": [
        "#checking Datatypes\n",
        "df_pyspk.dtypes"
      ],
      "metadata": {
        "colab": {
          "base_uri": "https://localhost:8080/"
        },
        "id": "Q9miJFv3tEdY",
        "outputId": "fd0aefc0-dde8-44f2-d667-8d8bb08b1987"
      },
      "execution_count": 58,
      "outputs": [
        {
          "output_type": "execute_result",
          "data": {
            "text/plain": [
              "[('NAME', 'string'), ('AGE', 'int'), ('EXP', 'int')]"
            ]
          },
          "metadata": {},
          "execution_count": 58
        }
      ]
    },
    {
      "cell_type": "code",
      "source": [
        "#describe\n",
        "df_pyspk.describe().show()"
      ],
      "metadata": {
        "colab": {
          "base_uri": "https://localhost:8080/"
        },
        "id": "Cy3iqny6tVdy",
        "outputId": "f7ce8369-d22a-496c-a940-2c6d3ab23a98"
      },
      "execution_count": 84,
      "outputs": [
        {
          "output_type": "stream",
          "name": "stdout",
          "text": [
            "+-------+-----+------------------+------------------+\n",
            "|summary| NAME|               AGE|               EXP|\n",
            "+-------+-----+------------------+------------------+\n",
            "|  count|    4|                 4|                 4|\n",
            "|   mean| null|             57.75|              5.25|\n",
            "| stddev| null|25.447658700425336|0.9574271077563381|\n",
            "|    min|harry|                32|                 4|\n",
            "|    max|sayan|                89|                 6|\n",
            "+-------+-----+------------------+------------------+\n",
            "\n"
          ]
        }
      ]
    },
    {
      "cell_type": "code",
      "source": [
        "#Adding column in dataframes\n",
        "df_pyspk=df_pyspk.withColumn('TOTAL EXP',df_pyspk['EXP']+3)"
      ],
      "metadata": {
        "id": "FBcqlauvtsae"
      },
      "execution_count": 66,
      "outputs": []
    },
    {
      "cell_type": "code",
      "source": [
        "df_pyspk"
      ],
      "metadata": {
        "id": "6lZty45AufK_"
      },
      "execution_count": 74,
      "outputs": []
    },
    {
      "cell_type": "code",
      "source": [
        "#droping a column \n",
        "df_pyspk=df_pyspk.drop(\"TOTAL EXP\").show()"
      ],
      "metadata": {
        "colab": {
          "base_uri": "https://localhost:8080/"
        },
        "id": "R1XgQt3yuh8p",
        "outputId": "15dbcf33-c8ed-4b5a-d948-bb8bf0df4037"
      },
      "execution_count": 88,
      "outputs": [
        {
          "output_type": "stream",
          "name": "stdout",
          "text": [
            "+-----+---+---+\n",
            "| NAME|AGE|EXP|\n",
            "+-----+---+---+\n",
            "|harry| 32|  4|\n",
            "|rohan| 67|  5|\n",
            "|sayan| 89|  6|\n",
            "|rohit| 43|  6|\n",
            "+-----+---+---+\n",
            "\n"
          ]
        }
      ]
    },
    {
      "cell_type": "code",
      "source": [
        "#Rename a column\n",
        "df_pyspk.withColumnRenamed(\"NAME\",'EMP NAME').show()"
      ],
      "metadata": {
        "colab": {
          "base_uri": "https://localhost:8080/"
        },
        "id": "eD3yG5aMvvC0",
        "outputId": "a2c3729b-d539-4b18-eb19-f773582405e3"
      },
      "execution_count": 87,
      "outputs": [
        {
          "output_type": "stream",
          "name": "stdout",
          "text": [
            "+--------+---+---+\n",
            "|EMP NAME|AGE|EXP|\n",
            "+--------+---+---+\n",
            "|   harry| 32|  4|\n",
            "|   rohan| 67|  5|\n",
            "|   sayan| 89|  6|\n",
            "|   rohit| 43|  6|\n",
            "+--------+---+---+\n",
            "\n"
          ]
        }
      ]
    },
    {
      "cell_type": "code",
      "source": [],
      "metadata": {
        "id": "XiVc3MPAwQct"
      },
      "execution_count": null,
      "outputs": []
    }
  ]
}